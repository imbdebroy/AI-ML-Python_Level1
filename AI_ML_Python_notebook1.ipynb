{
  "nbformat": 4,
  "nbformat_minor": 0,
  "metadata": {
    "colab": {
      "provenance": [],
      "toc_visible": true,
      "authorship_tag": "ABX9TyOvU8Ite/k5b2fLqJdHc95E",
      "include_colab_link": true
    },
    "kernelspec": {
      "name": "python3",
      "display_name": "Python 3"
    },
    "language_info": {
      "name": "python"
    }
  },
  "cells": [
    {
      "cell_type": "markdown",
      "metadata": {
        "id": "view-in-github",
        "colab_type": "text"
      },
      "source": [
        "<a href=\"https://colab.research.google.com/github/imbdebroy/AI-ML-Python_Level1/blob/main/AI_ML_Python_notebook1.ipynb\" target=\"_parent\"><img src=\"https://colab.research.google.com/assets/colab-badge.svg\" alt=\"Open In Colab\"/></a>"
      ]
    },
    {
      "cell_type": "markdown",
      "source": [
        "Python Basics"
      ],
      "metadata": {
        "id": "SWa63myZzGf0"
      }
    },
    {
      "cell_type": "code",
      "source": [
        "listOfNumbers = [1,2,3,4,5,6,7,8,9,10]\n",
        "for num in listOfNumbers :\n",
        "  if (num % 2 == 0):\n",
        "    print(num, \"is even\")\n",
        "  else:\n",
        "    print(num, \"is odd\")\n",
        "\n",
        "print(\"All Done\")\n"
      ],
      "metadata": {
        "colab": {
          "base_uri": "https://localhost:8080/"
        },
        "id": "1rUo8v8ff2hW",
        "outputId": "18c0aa19-605a-418f-d6eb-f13c2423fffc"
      },
      "execution_count": null,
      "outputs": [
        {
          "output_type": "stream",
          "name": "stdout",
          "text": [
            "1 is odd\n",
            "2 is even\n",
            "3 is odd\n",
            "4 is even\n",
            "5 is odd\n",
            "6 is even\n",
            "7 is odd\n",
            "8 is even\n",
            "9 is odd\n",
            "10 is even\n",
            "All Done\n"
          ]
        }
      ]
    },
    {
      "cell_type": "code",
      "source": [
        "import numpy as np\n",
        "A = np.random.normal(25.0, 5, 10)\n",
        "print(A)"
      ],
      "metadata": {
        "colab": {
          "base_uri": "https://localhost:8080/"
        },
        "id": "bjHKV_2hr_U8",
        "outputId": "be2369fe-d4d0-4865-a8be-fc47e255f52e"
      },
      "execution_count": null,
      "outputs": [
        {
          "output_type": "stream",
          "name": "stdout",
          "text": [
            "[27.19241506 25.19655108 23.95754052 26.51960142 30.86401351 26.32996994\n",
            " 20.95888083 24.10669703 22.46981375 10.24822443]\n"
          ]
        }
      ]
    },
    {
      "cell_type": "code",
      "source": [
        "X = [2,3,6,9,10]\n",
        "print(len(X))"
      ],
      "metadata": {
        "colab": {
          "base_uri": "https://localhost:8080/"
        },
        "id": "zsdq9pCt0N86",
        "outputId": "a8137dd0-fdab-4a4b-fa99-9ade231cded8"
      },
      "execution_count": null,
      "outputs": [
        {
          "output_type": "stream",
          "name": "stdout",
          "text": [
            "5\n"
          ]
        }
      ]
    },
    {
      "cell_type": "code",
      "source": [
        "X[:3]"
      ],
      "metadata": {
        "colab": {
          "base_uri": "https://localhost:8080/"
        },
        "id": "l66RDh35z-M2",
        "outputId": "f2a48b32-29a9-44b1-f22f-2e0772ce6e04"
      },
      "execution_count": null,
      "outputs": [
        {
          "output_type": "execute_result",
          "data": {
            "text/plain": [
              "[2, 3, 6]"
            ]
          },
          "metadata": {},
          "execution_count": 12
        }
      ]
    },
    {
      "cell_type": "code",
      "source": [
        "X[2:]"
      ],
      "metadata": {
        "colab": {
          "base_uri": "https://localhost:8080/"
        },
        "id": "RB4HQdvn1J1W",
        "outputId": "4c2b4a73-93b3-4ea2-f83a-e4c05cf5ba48"
      },
      "execution_count": null,
      "outputs": [
        {
          "output_type": "execute_result",
          "data": {
            "text/plain": [
              "[6, 9, 10]"
            ]
          },
          "metadata": {},
          "execution_count": 13
        }
      ]
    },
    {
      "cell_type": "code",
      "source": [
        "X[-2:]"
      ],
      "metadata": {
        "colab": {
          "base_uri": "https://localhost:8080/"
        },
        "id": "vIbwGZfP1UWu",
        "outputId": "d3f12aa2-27e0-49e3-85a8-ee65c92fac82"
      },
      "execution_count": null,
      "outputs": [
        {
          "output_type": "execute_result",
          "data": {
            "text/plain": [
              "[9, 10]"
            ]
          },
          "metadata": {},
          "execution_count": 14
        }
      ]
    },
    {
      "cell_type": "code",
      "source": [
        "X.extend([7,8])\n",
        "print(X)"
      ],
      "metadata": {
        "colab": {
          "base_uri": "https://localhost:8080/"
        },
        "id": "3yIP48KY1gzR",
        "outputId": "aaf85efd-5a88-4881-e0a4-3b20de270916"
      },
      "execution_count": null,
      "outputs": [
        {
          "output_type": "stream",
          "name": "stdout",
          "text": [
            "[2, 3, 6, 9, 10, 7, 8]\n"
          ]
        }
      ]
    },
    {
      "cell_type": "code",
      "source": [
        "X.append(0)\n",
        "print(X)"
      ],
      "metadata": {
        "colab": {
          "base_uri": "https://localhost:8080/"
        },
        "id": "CggZAjWZ4p6-",
        "outputId": "05ea0838-1520-4d89-ceac-ddabee2c8b6c"
      },
      "execution_count": null,
      "outputs": [
        {
          "output_type": "stream",
          "name": "stdout",
          "text": [
            "[2, 3, 6, 9, 10, 7, 8, 0, 0, 0]\n"
          ]
        }
      ]
    },
    {
      "cell_type": "code",
      "source": [
        "Y =[10,20,30]"
      ],
      "metadata": {
        "id": "FRqqv4AA43FF"
      },
      "execution_count": null,
      "outputs": []
    },
    {
      "cell_type": "code",
      "source": [
        "listOfLists =[X, Y]\n",
        "listOfLists"
      ],
      "metadata": {
        "colab": {
          "base_uri": "https://localhost:8080/"
        },
        "id": "QRwth8jc7b-f",
        "outputId": "105e86b8-c89e-4e0f-b1f7-76eb2d34805a"
      },
      "execution_count": null,
      "outputs": [
        {
          "output_type": "execute_result",
          "data": {
            "text/plain": [
              "[[2, 3, 6, 9, 10, 7, 8, 0, 0, 0], [10, 20, 30]]"
            ]
          },
          "metadata": {},
          "execution_count": 25
        }
      ]
    },
    {
      "cell_type": "code",
      "source": [
        "Z = [3,6,9]"
      ],
      "metadata": {
        "id": "KseaXVE97od1"
      },
      "execution_count": null,
      "outputs": []
    },
    {
      "cell_type": "code",
      "source": [
        "Z.sort(reverse=True)\n",
        "Z"
      ],
      "metadata": {
        "colab": {
          "base_uri": "https://localhost:8080/"
        },
        "id": "d_JsCrG4usbe",
        "outputId": "1e491ef2-68fa-431b-e7b9-eb2cb4cb23f9"
      },
      "execution_count": null,
      "outputs": [
        {
          "output_type": "execute_result",
          "data": {
            "text/plain": [
              "[9, 6, 3]"
            ]
          },
          "metadata": {},
          "execution_count": 4
        }
      ]
    },
    {
      "cell_type": "markdown",
      "source": [
        "**Tuples**\n"
      ],
      "metadata": {
        "id": "LR1v8G6PxDxo"
      }
    },
    {
      "cell_type": "code",
      "source": [
        "x = (1,3,5,8)"
      ],
      "metadata": {
        "id": "lRc-nNouxLse"
      },
      "execution_count": null,
      "outputs": []
    },
    {
      "cell_type": "code",
      "source": [
        "len(x)"
      ],
      "metadata": {
        "colab": {
          "base_uri": "https://localhost:8080/"
        },
        "id": "Uf-as_wExPI9",
        "outputId": "8c77f0ce-0af2-451d-b388-ac05b2997413"
      },
      "execution_count": null,
      "outputs": [
        {
          "output_type": "execute_result",
          "data": {
            "text/plain": [
              "4"
            ]
          },
          "metadata": {},
          "execution_count": 6
        }
      ]
    },
    {
      "cell_type": "code",
      "source": [
        "y = (8,9,22,11,7)"
      ],
      "metadata": {
        "id": "tI7UmKX1xT73"
      },
      "execution_count": null,
      "outputs": []
    },
    {
      "cell_type": "code",
      "source": [
        "listOfTuples = [x,y]\n",
        "listOfTuples"
      ],
      "metadata": {
        "colab": {
          "base_uri": "https://localhost:8080/"
        },
        "id": "iqC9VNw2xe3D",
        "outputId": "7d199702-8152-4aa6-c3dc-c3642107f3ac"
      },
      "execution_count": null,
      "outputs": [
        {
          "output_type": "execute_result",
          "data": {
            "text/plain": [
              "[(1, 3, 5, 8), (8, 9, 22, 11, 7)]"
            ]
          },
          "metadata": {},
          "execution_count": 10
        }
      ]
    },
    {
      "cell_type": "code",
      "source": [
        "listOfTuples[0]"
      ],
      "metadata": {
        "colab": {
          "base_uri": "https://localhost:8080/"
        },
        "id": "DOJzqhrexvm3",
        "outputId": "89bf07f3-6919-492b-f558-2135a3144cb6"
      },
      "execution_count": null,
      "outputs": [
        {
          "output_type": "execute_result",
          "data": {
            "text/plain": [
              "(1, 3, 5, 8)"
            ]
          },
          "metadata": {},
          "execution_count": 14
        }
      ]
    },
    {
      "cell_type": "code",
      "source": [
        "x"
      ],
      "metadata": {
        "colab": {
          "base_uri": "https://localhost:8080/"
        },
        "id": "ZklnSn9AyOKn",
        "outputId": "127b84cd-5b00-4cc1-c90a-17dfed5aae40"
      },
      "execution_count": null,
      "outputs": [
        {
          "output_type": "execute_result",
          "data": {
            "text/plain": [
              "(1, 3, 5, 8)"
            ]
          },
          "metadata": {},
          "execution_count": 17
        }
      ]
    },
    {
      "cell_type": "code",
      "source": [
        "x[0]"
      ],
      "metadata": {
        "colab": {
          "base_uri": "https://localhost:8080/"
        },
        "id": "qKyQc1cvyTkz",
        "outputId": "de80f12c-2e21-4c0c-8a17-27453a379ad0"
      },
      "execution_count": null,
      "outputs": [
        {
          "output_type": "execute_result",
          "data": {
            "text/plain": [
              "1"
            ]
          },
          "metadata": {},
          "execution_count": 18
        }
      ]
    },
    {
      "cell_type": "code",
      "source": [
        "(firstname, lastname, age, salary) = \"biswadeep,debroy,31,120000\".split(',')"
      ],
      "metadata": {
        "id": "ieEyWm-xyaZH"
      },
      "execution_count": null,
      "outputs": []
    },
    {
      "cell_type": "code",
      "source": [
        "print(firstname)\n",
        "print(lastname)\n",
        "print(age)\n",
        "print(salary)"
      ],
      "metadata": {
        "colab": {
          "base_uri": "https://localhost:8080/"
        },
        "id": "rX89twNCzxrh",
        "outputId": "73dd3ce0-b12f-42e2-d9bd-ac02de6ec41f"
      },
      "execution_count": null,
      "outputs": [
        {
          "output_type": "stream",
          "name": "stdout",
          "text": [
            "biswadeep\n",
            "debroy\n",
            "31\n",
            "120000\n"
          ]
        }
      ]
    },
    {
      "cell_type": "markdown",
      "source": [
        "\n",
        "\n",
        ">**Dictionaries**\n",
        "\n"
      ],
      "metadata": {
        "id": "-aLZ8Bw1Curi"
      }
    },
    {
      "cell_type": "code",
      "source": [
        "captains = {}\n",
        "captains[\"Gerald\"] = \"Animesh\"\n",
        "captains[\"Abraham Lincon\"] = \"Tanmoy\"\n",
        "captains[\"USS Royal\"] = \"Aayan\"\n",
        "captains[\"INS Vikramaditya\"] = \"Biswadeep\"\n",
        "captains[\"INS Kolkata\"] = \"Debroy\""
      ],
      "metadata": {
        "id": "nagysURMyK1K"
      },
      "execution_count": null,
      "outputs": []
    },
    {
      "cell_type": "code",
      "source": [
        "print(captains.get(\"Gerald\"))"
      ],
      "metadata": {
        "colab": {
          "base_uri": "https://localhost:8080/"
        },
        "id": "AH1h4uCnFJE1",
        "outputId": "9f68ae3e-ba48-4663-fa1b-ce32bbee8706"
      },
      "execution_count": null,
      "outputs": [
        {
          "output_type": "stream",
          "name": "stdout",
          "text": [
            "Animesh\n"
          ]
        }
      ]
    },
    {
      "cell_type": "code",
      "source": [
        "for ships in captains:\n",
        "  print(ships + \": \" + captains[ships])"
      ],
      "metadata": {
        "colab": {
          "base_uri": "https://localhost:8080/"
        },
        "id": "YnKGZt6rFdRV",
        "outputId": "9465b3bd-309c-46ea-9c51-f1a0632da610"
      },
      "execution_count": null,
      "outputs": [
        {
          "output_type": "stream",
          "name": "stdout",
          "text": [
            "Gerald: Animesh\n",
            "Abraham Lincon: Tanmoy\n",
            "USS Royal: Aayan\n",
            "INS Vikramaditya: Biswadeep\n",
            "INS Kolkata: Debroy\n"
          ]
        }
      ]
    },
    {
      "cell_type": "markdown",
      "source": [
        "**Functions**"
      ],
      "metadata": {
        "id": "1hLzihVeGEtg"
      }
    },
    {
      "cell_type": "code",
      "source": [
        "def squreIt (x):\n",
        "  return x * x\n",
        "\n",
        "print(squreIt(2))"
      ],
      "metadata": {
        "colab": {
          "base_uri": "https://localhost:8080/"
        },
        "id": "93eEmM2YGH-1",
        "outputId": "00e4ca42-1099-45c4-b2e2-0c7b358ba018"
      },
      "execution_count": null,
      "outputs": [
        {
          "output_type": "stream",
          "name": "stdout",
          "text": [
            "4\n"
          ]
        }
      ]
    },
    {
      "cell_type": "code",
      "source": [
        "def doSomething(f, x):\n",
        "  return f(x)"
      ],
      "metadata": {
        "id": "Nn5Pdrs7GYch"
      },
      "execution_count": null,
      "outputs": []
    },
    {
      "cell_type": "code",
      "source": [
        "print(doSomething(squreIt,6))"
      ],
      "metadata": {
        "colab": {
          "base_uri": "https://localhost:8080/"
        },
        "id": "U_HJZspmGz4d",
        "outputId": "aff255f8-c659-43ea-c52f-7d967384b43b"
      },
      "execution_count": null,
      "outputs": [
        {
          "output_type": "stream",
          "name": "stdout",
          "text": [
            "36\n"
          ]
        }
      ]
    },
    {
      "cell_type": "code",
      "source": [
        "##Lambda Expression\n",
        "print(doSomething(lambda x: x * x * x, 3))"
      ],
      "metadata": {
        "colab": {
          "base_uri": "https://localhost:8080/"
        },
        "id": "5G7rvrdpG5t5",
        "outputId": "1240ecfc-8e8b-41fa-b6da-4a93f231e2de"
      },
      "execution_count": null,
      "outputs": [
        {
          "output_type": "stream",
          "name": "stdout",
          "text": [
            "27\n"
          ]
        }
      ]
    },
    {
      "cell_type": "markdown",
      "source": [
        "**Bollean Exression**"
      ],
      "metadata": {
        "id": "f9M4kqOcHaPy"
      }
    },
    {
      "cell_type": "code",
      "source": [
        "print ( 1 == 3 )"
      ],
      "metadata": {
        "colab": {
          "base_uri": "https://localhost:8080/"
        },
        "id": "Pw3-Ep0NRJfK",
        "outputId": "0d7f6966-0771-4eb2-d33d-8aeb26a8964b"
      },
      "execution_count": null,
      "outputs": [
        {
          "output_type": "stream",
          "name": "stdout",
          "text": [
            "False\n"
          ]
        }
      ]
    },
    {
      "cell_type": "code",
      "source": [
        "if 1 == 3:\n",
        "  print ( \" how that happened\")\n",
        "elif 1 > 3:\n",
        "  print (\"Really\")\n",
        "else:\n",
        "  print ( \"All is Well\")"
      ],
      "metadata": {
        "id": "X3xxHB9SEu8p",
        "colab": {
          "base_uri": "https://localhost:8080/"
        },
        "outputId": "a97a14a1-e621-4d2c-efc0-79f52f5d2091"
      },
      "execution_count": null,
      "outputs": [
        {
          "output_type": "stream",
          "name": "stdout",
          "text": [
            "All is Well\n"
          ]
        }
      ]
    },
    {
      "cell_type": "code",
      "source": [
        "for x in range(10):\n",
        "  print(x)"
      ],
      "metadata": {
        "colab": {
          "base_uri": "https://localhost:8080/"
        },
        "id": "jTGnNkcGRSFb",
        "outputId": "8924bef1-befa-48d1-f050-cd5de5a03664"
      },
      "execution_count": null,
      "outputs": [
        {
          "output_type": "stream",
          "name": "stdout",
          "text": [
            "0\n",
            "1\n",
            "2\n",
            "3\n",
            "4\n",
            "5\n",
            "6\n",
            "7\n",
            "8\n",
            "9\n"
          ]
        }
      ]
    },
    {
      "cell_type": "code",
      "source": [
        "for x in range(10):\n",
        "  if (x ==1):\n",
        "    continue\n",
        "  if (x>5):\n",
        "    break\n",
        "  print(x)"
      ],
      "metadata": {
        "colab": {
          "base_uri": "https://localhost:8080/"
        },
        "id": "aPOa3PPdRaf0",
        "outputId": "a8f61453-df5b-4dbb-aa01-596e6bd9674e"
      },
      "execution_count": null,
      "outputs": [
        {
          "output_type": "stream",
          "name": "stdout",
          "text": [
            "0\n",
            "2\n",
            "3\n",
            "4\n",
            "5\n"
          ]
        }
      ]
    },
    {
      "cell_type": "code",
      "source": [
        "x = 0\n",
        "while (x<10):\n",
        "  print(x)\n",
        "  x = x+1"
      ],
      "metadata": {
        "colab": {
          "base_uri": "https://localhost:8080/"
        },
        "id": "bfNcCyXFRzJf",
        "outputId": "b2e1d746-3578-4498-a61e-ba9d25b130c7"
      },
      "execution_count": null,
      "outputs": [
        {
          "output_type": "stream",
          "name": "stdout",
          "text": [
            "0\n",
            "1\n",
            "2\n",
            "3\n",
            "4\n",
            "5\n",
            "6\n",
            "7\n",
            "8\n",
            "9\n"
          ]
        }
      ]
    },
    {
      "cell_type": "code",
      "source": [
        "myList =[]\n",
        "for x in range(10):\n",
        "  myList.append(x)\n",
        "myList\n",
        "for elements in myList:\n",
        "  if (elements % 2) == 0 :\n",
        "    print(\"Even Number : \", elements)\n",
        "  else:\n",
        "    print(\"Odd Number :\", elements)\n"
      ],
      "metadata": {
        "colab": {
          "base_uri": "https://localhost:8080/"
        },
        "id": "EumF1IIBR8vk",
        "outputId": "1e45b5e5-c0ae-405d-bd12-3e4a60a8dc13"
      },
      "execution_count": null,
      "outputs": [
        {
          "output_type": "stream",
          "name": "stdout",
          "text": [
            "Even Number :  0\n",
            "Odd Number : 1\n",
            "Even Number :  2\n",
            "Odd Number : 3\n",
            "Even Number :  4\n",
            "Odd Number : 5\n",
            "Even Number :  6\n",
            "Odd Number : 7\n",
            "Even Number :  8\n",
            "Odd Number : 9\n"
          ]
        }
      ]
    },
    {
      "cell_type": "code",
      "source": [],
      "metadata": {
        "id": "5zzLkmkxT-cl"
      },
      "execution_count": null,
      "outputs": []
    },
    {
      "cell_type": "code",
      "source": [],
      "metadata": {
        "id": "n2CLjxDTT1O9"
      },
      "execution_count": null,
      "outputs": []
    },
    {
      "cell_type": "code",
      "source": [],
      "metadata": {
        "id": "-PW5vR-VTzSg"
      },
      "execution_count": null,
      "outputs": []
    },
    {
      "cell_type": "code",
      "source": [],
      "metadata": {
        "id": "vP2UmkSsTwcE"
      },
      "execution_count": null,
      "outputs": []
    },
    {
      "cell_type": "code",
      "source": [],
      "metadata": {
        "id": "2A9GoZqpTI4H"
      },
      "execution_count": null,
      "outputs": []
    },
    {
      "cell_type": "code",
      "source": [],
      "metadata": {
        "id": "Y0LsAMKnTHsj"
      },
      "execution_count": null,
      "outputs": []
    },
    {
      "cell_type": "code",
      "source": [],
      "metadata": {
        "id": "Qyvvrf5fS-vv"
      },
      "execution_count": null,
      "outputs": []
    },
    {
      "cell_type": "code",
      "source": [],
      "metadata": {
        "id": "u7VYFZJ5SvSP"
      },
      "execution_count": null,
      "outputs": []
    },
    {
      "cell_type": "code",
      "source": [],
      "metadata": {
        "id": "CxJ09zOHSqD7"
      },
      "execution_count": null,
      "outputs": []
    },
    {
      "cell_type": "code",
      "source": [],
      "metadata": {
        "id": "iWqCQWyCSnjH"
      },
      "execution_count": null,
      "outputs": []
    },
    {
      "cell_type": "code",
      "source": [],
      "metadata": {
        "id": "cjIJh3GdSltY"
      },
      "execution_count": null,
      "outputs": []
    },
    {
      "cell_type": "code",
      "source": [],
      "metadata": {
        "id": "ujYkQeWVSiUv"
      },
      "execution_count": null,
      "outputs": []
    },
    {
      "cell_type": "code",
      "source": [],
      "metadata": {
        "id": "sMbJbmreScoN"
      },
      "execution_count": null,
      "outputs": []
    },
    {
      "cell_type": "code",
      "source": [],
      "metadata": {
        "id": "B5LXQV_rQ850"
      },
      "execution_count": null,
      "outputs": []
    },
    {
      "cell_type": "code",
      "source": [],
      "metadata": {
        "id": "oD0dBbmYQubZ"
      },
      "execution_count": null,
      "outputs": []
    },
    {
      "cell_type": "code",
      "source": [],
      "metadata": {
        "id": "86udvO9ZyDND"
      },
      "execution_count": null,
      "outputs": []
    },
    {
      "cell_type": "code",
      "source": [],
      "metadata": {
        "id": "O65m_ZCdx6O7"
      },
      "execution_count": null,
      "outputs": []
    },
    {
      "cell_type": "code",
      "source": [],
      "metadata": {
        "id": "cJr-uMdAxz5D"
      },
      "execution_count": null,
      "outputs": []
    },
    {
      "cell_type": "code",
      "source": [],
      "metadata": {
        "id": "xV4j5JsZxsYi"
      },
      "execution_count": null,
      "outputs": []
    },
    {
      "cell_type": "code",
      "source": [],
      "metadata": {
        "id": "aiVxcWTYxqS7"
      },
      "execution_count": null,
      "outputs": []
    },
    {
      "cell_type": "code",
      "source": [],
      "metadata": {
        "id": "k41Gk1tRxGjo"
      },
      "execution_count": null,
      "outputs": []
    },
    {
      "cell_type": "code",
      "source": [],
      "metadata": {
        "id": "9vmNBITYu5_v"
      },
      "execution_count": null,
      "outputs": []
    },
    {
      "cell_type": "code",
      "source": [],
      "metadata": {
        "id": "3LVDBldMu3t7"
      },
      "execution_count": null,
      "outputs": []
    },
    {
      "cell_type": "code",
      "source": [],
      "metadata": {
        "id": "plgM3BRe7hQq"
      },
      "execution_count": null,
      "outputs": []
    },
    {
      "cell_type": "code",
      "source": [],
      "metadata": {
        "id": "8KXaZp1241uF"
      },
      "execution_count": null,
      "outputs": []
    },
    {
      "cell_type": "code",
      "source": [],
      "metadata": {
        "id": "SRFeFCH34y9y"
      },
      "execution_count": null,
      "outputs": []
    },
    {
      "cell_type": "code",
      "source": [],
      "metadata": {
        "id": "9tfWz3KO4lYm"
      },
      "execution_count": null,
      "outputs": []
    },
    {
      "cell_type": "code",
      "source": [],
      "metadata": {
        "id": "Alg-G2ZJ1Fq-"
      },
      "execution_count": null,
      "outputs": []
    },
    {
      "cell_type": "code",
      "source": [],
      "metadata": {
        "id": "1mS9bzoEzzmW"
      },
      "execution_count": null,
      "outputs": []
    },
    {
      "cell_type": "code",
      "source": [],
      "metadata": {
        "id": "fW8DeSBZztpi"
      },
      "execution_count": null,
      "outputs": []
    },
    {
      "cell_type": "code",
      "source": [],
      "metadata": {
        "id": "_9o5SY93zowG"
      },
      "execution_count": null,
      "outputs": []
    }
  ]
}