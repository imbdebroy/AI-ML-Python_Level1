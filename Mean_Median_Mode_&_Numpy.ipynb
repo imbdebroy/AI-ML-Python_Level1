{
  "nbformat": 4,
  "nbformat_minor": 0,
  "metadata": {
    "colab": {
      "provenance": [],
      "authorship_tag": "ABX9TyM7U0nolyqlTZbZDEjZAmPF",
      "include_colab_link": true
    },
    "kernelspec": {
      "name": "python3",
      "display_name": "Python 3"
    },
    "language_info": {
      "name": "python"
    }
  },
  "cells": [
    {
      "cell_type": "markdown",
      "metadata": {
        "id": "view-in-github",
        "colab_type": "text"
      },
      "source": [
        "<a href=\"https://colab.research.google.com/github/imbdebroy/AI-ML-Python_Level1/blob/main/Mean_Median_Mode_%26_Numpy.ipynb\" target=\"_parent\"><img src=\"https://colab.research.google.com/assets/colab-badge.svg\" alt=\"Open In Colab\"/></a>"
      ]
    },
    {
      "cell_type": "code",
      "execution_count": 1,
      "metadata": {
        "id": "MHPCrml-LGTf"
      },
      "outputs": [],
      "source": [
        "import numpy as np\n",
        "incomes = np.random.normal(27000,15000,10000)"
      ]
    },
    {
      "cell_type": "code",
      "source": [
        "np.mean(incomes)"
      ],
      "metadata": {
        "colab": {
          "base_uri": "https://localhost:8080/"
        },
        "id": "pJyevxoQLkz8",
        "outputId": "e2f6dc6c-a3b7-449d-8c0a-b6b33683d46a"
      },
      "execution_count": 3,
      "outputs": [
        {
          "output_type": "execute_result",
          "data": {
            "text/plain": [
              "np.float64(27056.54856203577)"
            ]
          },
          "metadata": {},
          "execution_count": 3
        }
      ]
    },
    {
      "cell_type": "code",
      "source": [
        "#matplol inline\n",
        "import matplotlib.pyplot as plt\n",
        "plt.hist(incomes,50)\n",
        "plt.show()"
      ],
      "metadata": {
        "colab": {
          "base_uri": "https://localhost:8080/",
          "height": 430
        },
        "id": "D83I9PJcLwz0",
        "outputId": "1187c0bc-a0d6-4903-fd65-7119343328ea"
      },
      "execution_count": 5,
      "outputs": [
        {
          "output_type": "display_data",
          "data": {
            "text/plain": [
              "<Figure size 640x480 with 1 Axes>"
            ],
            "image/png": "[encoded data removed]"
          },
          "metadata": {}
        }
      ]
    },
    {
      "cell_type": "code",
      "source": [
        "np.median(incomes)"
      ],
      "metadata": {
        "colab": {
          "base_uri": "https://localhost:8080/"
        },
        "id": "Ck74iBdrNohD",
        "outputId": "72581bd7-5e07-4686-f05a-11dbb56ba0b6"
      },
      "execution_count": 6,
      "outputs": [
        {
          "output_type": "execute_result",
          "data": {
            "text/plain": [
              "np.float64(26796.537630832114)"
            ]
          },
          "metadata": {},
          "execution_count": 6
        }
      ]
    },
    {
      "cell_type": "code",
      "source": [
        "np.mean(incomes)"
      ],
      "metadata": {
        "colab": {
          "base_uri": "https://localhost:8080/"
        },
        "id": "uIZomryVOfLs",
        "outputId": "7a8f1ba8-1ae9-40f0-b8ff-00c26cea3341"
      },
      "execution_count": 7,
      "outputs": [
        {
          "output_type": "execute_result",
          "data": {
            "text/plain": [
              "np.float64(27056.54856203577)"
            ]
          },
          "metadata": {},
          "execution_count": 7
        }
      ]
    },
    {
      "cell_type": "code",
      "source": [
        "incomes =np.append(incomes, [1000000000])"
      ],
      "metadata": {
        "id": "upYklD1nOkb3"
      },
      "execution_count": 8,
      "outputs": []
    },
    {
      "cell_type": "code",
      "source": [
        "np.median(incomes)"
      ],
      "metadata": {
        "colab": {
          "base_uri": "https://localhost:8080/"
        },
        "id": "qldDyUTxO52K",
        "outputId": "08968548-6a65-473d-9bf3-aafcb5809166"
      },
      "execution_count": 9,
      "outputs": [
        {
          "output_type": "execute_result",
          "data": {
            "text/plain": [
              "np.float64(26797.494968229854)"
            ]
          },
          "metadata": {},
          "execution_count": 9
        }
      ]
    },
    {
      "cell_type": "code",
      "source": [
        "np.mean(incomes)"
      ],
      "metadata": {
        "colab": {
          "base_uri": "https://localhost:8080/"
        },
        "id": "hd-6YPomO80e",
        "outputId": "052262e4-7282-4197-a53c-c35a16e9c83b"
      },
      "execution_count": 10,
      "outputs": [
        {
          "output_type": "execute_result",
          "data": {
            "text/plain": [
              "np.float64(127043.84417761801)"
            ]
          },
          "metadata": {},
          "execution_count": 10
        }
      ]
    },
    {
      "cell_type": "markdown",
      "source": [
        "Mode"
      ],
      "metadata": {
        "id": "OzoRHLsTPD-J"
      }
    },
    {
      "cell_type": "code",
      "source": [
        "ages =np.random.randint(18,high=90, size = 500)\n",
        "ages"
      ],
      "metadata": {
        "colab": {
          "base_uri": "https://localhost:8080/"
        },
        "id": "kE7VNt-JNYxF",
        "outputId": "24119974-ba62-4c39-f13a-c8691c890f03"
      },
      "execution_count": 21,
      "outputs": [
        {
          "output_type": "execute_result",
          "data": {
            "text/plain": [
              "array([47, 38, 33, 43, 49, 35, 69, 44, 49, 56, 30, 58, 88, 45, 39, 35, 42,\n",
              "       85, 58, 76, 86, 25, 24, 64, 87, 35, 79, 41, 55, 25, 75, 55, 52, 20,\n",
              "       52, 51, 35, 54, 58, 72, 39, 21, 88, 36, 67, 52, 28, 27, 88, 82, 28,\n",
              "       22, 52, 75, 33, 53, 59, 57, 18, 27, 46, 23, 50, 50, 24, 25, 87, 18,\n",
              "       29, 71, 48, 66, 69, 88, 67, 61, 84, 38, 70, 48, 41, 19, 88, 68, 28,\n",
              "       26, 32, 20, 61, 71, 33, 58, 51, 73, 30, 42, 31, 41, 23, 80, 24, 33,\n",
              "       47, 68, 47, 49, 69, 26, 23, 79, 79, 70, 64, 62, 29, 67, 84, 44, 40,\n",
              "       74, 77, 22, 39, 78, 58, 34, 87, 67, 62, 24, 53, 70, 24, 45, 33, 81,\n",
              "       51, 18, 33, 53, 68, 75, 28, 76, 40, 50, 36, 87, 59, 48, 43, 59, 89,\n",
              "       73, 63, 37, 36, 26, 61, 40, 42, 55, 45, 57, 55, 64, 20, 88, 46, 50,\n",
              "       28, 80, 44, 73, 27, 44, 69, 19, 69, 41, 69, 38, 86, 88, 68, 38, 18,\n",
              "       49, 78, 61, 64, 85, 63, 86, 83, 75, 55, 18, 42, 86, 40, 18, 59, 86,\n",
              "       77, 28, 19, 24, 37, 51, 66, 33, 49, 86, 32, 85, 31, 24, 47, 26, 53,\n",
              "       77, 25, 80, 70, 43, 62, 21, 88, 26, 25, 26, 87, 75, 38, 20, 79, 47,\n",
              "       64, 78, 50, 40, 27, 74, 87, 64, 63, 56, 46, 73, 26, 28, 57, 64, 80,\n",
              "       63, 65, 49, 71, 60, 51, 37, 48, 56, 36, 73, 19, 88, 56, 73, 81, 67,\n",
              "       25, 34, 21, 54, 83, 53, 64, 61, 80, 48, 50, 30, 48, 81, 82, 59, 66,\n",
              "       46, 36, 43, 23, 40, 36, 78, 40, 60, 69, 33, 62, 50, 58, 59, 67, 85,\n",
              "       58, 30, 24, 43, 25, 79, 53, 46, 86, 24, 60, 61, 57, 25, 41, 46, 28,\n",
              "       23, 65, 84, 59, 29, 56, 32, 47, 28, 32, 80, 57, 21, 72, 32, 46, 26,\n",
              "       26, 27, 65, 19, 39, 61, 72, 35, 67, 79, 33, 78, 71, 52, 62, 62, 70,\n",
              "       37, 78, 55, 56, 49, 57, 88, 32, 43, 52, 79, 50, 81, 73, 68, 83, 55,\n",
              "       20, 58, 40, 28, 26, 59, 76, 32, 87, 46, 32, 59, 49, 24, 62, 61, 40,\n",
              "       80, 49, 43, 89, 60, 60, 78, 39, 33, 28, 48, 88, 31, 55, 77, 69, 43,\n",
              "       29, 36, 88, 59, 53, 89, 32, 46, 32, 25, 89, 64, 44, 60, 55, 55, 71,\n",
              "       83, 60, 46, 82, 87, 71, 41, 69, 35, 65, 58, 69, 52, 71, 77, 44, 67,\n",
              "       68, 55, 21, 80, 84, 54, 31, 73, 22, 66, 70, 61, 80, 67, 72, 51, 65,\n",
              "       70, 62, 43, 75, 21, 42, 36, 36, 72, 30, 53, 85, 36, 20, 63, 36, 86,\n",
              "       36, 18, 18, 47, 58, 75, 37, 24, 82, 79, 57, 66, 37, 24, 64, 22, 82,\n",
              "       52, 36, 81, 18, 88, 81, 89])"
            ]
          },
          "metadata": {},
          "execution_count": 21
        }
      ]
    },
    {
      "cell_type": "code",
      "source": [
        "from scipy import stats\n",
        "ages = stats.mode(ages)\n",
        "ages"
      ],
      "metadata": {
        "colab": {
          "base_uri": "https://localhost:8080/"
        },
        "id": "HA3_blnCPaMa",
        "outputId": "c7718f4b-f7d2-4bdf-fae2-15b3d930090c"
      },
      "execution_count": 22,
      "outputs": [
        {
          "output_type": "execute_result",
          "data": {
            "text/plain": [
              "ModeResult(mode=np.int64(36), count=np.int64(13))"
            ]
          },
          "metadata": {},
          "execution_count": 22
        }
      ]
    },
    {
      "cell_type": "code",
      "source": [
        "import numpy as np\n",
        "import matplotlib.pyplot as plt\n",
        "incomes =np.random.normal(100.0,20.0,1000)\n",
        "plt.hist(incomes,50)\n",
        "plt.show()"
      ],
      "metadata": {
        "colab": {
          "base_uri": "https://localhost:8080/",
          "height": 430
        },
        "id": "rARVDDOQQK6L",
        "outputId": "1174959a-1422-4c1c-d72a-596214367b01"
      },
      "execution_count": 20,
      "outputs": [
        {
          "output_type": "display_data",
          "data": {
            "text/plain": [
              "<Figure size 640x480 with 1 Axes>"
            ],
            "image/png": "[encoded data removed]"
          },
          "metadata": {}
        }
      ]
    },
    {
      "cell_type": "code",
      "source": [
        "np.mean(incomes)"
      ],
      "metadata": {
        "colab": {
          "base_uri": "https://localhost:8080/"
        },
        "id": "7z1D21YtQqpb",
        "outputId": "b8a807b8-69c6-433a-db7e-6e0e8f9521c5"
      },
      "execution_count": 23,
      "outputs": [
        {
          "output_type": "execute_result",
          "data": {
            "text/plain": [
              "np.float64(100.26940026340898)"
            ]
          },
          "metadata": {},
          "execution_count": 23
        }
      ]
    },
    {
      "cell_type": "code",
      "source": [
        "np.median(incomes)"
      ],
      "metadata": {
        "colab": {
          "base_uri": "https://localhost:8080/"
        },
        "id": "QQGVJ3I8V4d9",
        "outputId": "a17e669a-5f42-4ee0-a8d5-418cc7175872"
      },
      "execution_count": 25,
      "outputs": [
        {
          "output_type": "execute_result",
          "data": {
            "text/plain": [
              "np.float64(100.55895339489615)"
            ]
          },
          "metadata": {},
          "execution_count": 25
        }
      ]
    },
    {
      "cell_type": "code",
      "source": [
        "from scipy import stats\n",
        "income = stats.mode(incomes)\n",
        "income"
      ],
      "metadata": {
        "colab": {
          "base_uri": "https://localhost:8080/"
        },
        "id": "8rym8T5HV-HE",
        "outputId": "184b6855-922a-48cf-c659-f006d878abe8"
      },
      "execution_count": 27,
      "outputs": [
        {
          "output_type": "execute_result",
          "data": {
            "text/plain": [
              "ModeResult(mode=np.float64(17.833615504296176), count=np.int64(1))"
            ]
          },
          "metadata": {},
          "execution_count": 27
        }
      ]
    },
    {
      "cell_type": "code",
      "source": [],
      "metadata": {
        "id": "jvMOEOcOWVof"
      },
      "execution_count": null,
      "outputs": []
    },
    {
      "cell_type": "code",
      "source": [],
      "metadata": {
        "id": "6-2HI0OVWDMK"
      },
      "execution_count": null,
      "outputs": []
    },
    {
      "cell_type": "code",
      "source": [],
      "metadata": {
        "id": "F_CqGPDZV7kr"
      },
      "execution_count": null,
      "outputs": []
    },
    {
      "cell_type": "code",
      "source": [],
      "metadata": {
        "id": "26MeSBpTQiO1"
      },
      "execution_count": null,
      "outputs": []
    },
    {
      "cell_type": "code",
      "source": [],
      "metadata": {
        "id": "n_Ik7BWsQIVu"
      },
      "execution_count": null,
      "outputs": []
    },
    {
      "cell_type": "code",
      "source": [],
      "metadata": {
        "id": "GD5dhYvrQBPR"
      },
      "execution_count": null,
      "outputs": []
    },
    {
      "cell_type": "code",
      "source": [],
      "metadata": {
        "id": "2Ro_PA9nP84X"
      },
      "execution_count": null,
      "outputs": []
    },
    {
      "cell_type": "code",
      "source": [],
      "metadata": {
        "id": "IkKdNVgMPz38"
      },
      "execution_count": null,
      "outputs": []
    },
    {
      "cell_type": "code",
      "source": [],
      "metadata": {
        "id": "vOaQKooGPY4Y"
      },
      "execution_count": null,
      "outputs": []
    },
    {
      "cell_type": "code",
      "source": [],
      "metadata": {
        "id": "KMx7w3A_PV05"
      },
      "execution_count": null,
      "outputs": []
    },
    {
      "cell_type": "code",
      "source": [],
      "metadata": {
        "id": "EWXYYCF2PFwD"
      },
      "execution_count": null,
      "outputs": []
    },
    {
      "cell_type": "code",
      "source": [],
      "metadata": {
        "id": "dJCJgWMWLsGA"
      },
      "execution_count": null,
      "outputs": []
    },
    {
      "cell_type": "code",
      "source": [],
      "metadata": {
        "id": "kqEGjKLBLY-O"
      },
      "execution_count": null,
      "outputs": []
    }
  ]
}